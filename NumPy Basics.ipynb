{
 "cells": [
  {
   "cell_type": "markdown",
   "metadata": {},
   "source": [
    "# *Importing the NumPy library and creating an array*"
   ]
  },
  {
   "cell_type": "code",
   "execution_count": null,
   "metadata": {},
   "outputs": [],
   "source": [
    "import numpy as np # importing the numpy library\n",
    "arr = np.array([1,2,3]) # creating a 1-D array\n",
    "print(f'Array : {arr}')"
   ]
  },
  {
   "cell_type": "markdown",
   "metadata": {},
   "source": [
    "# *Basic Methods of NumPy*"
   ]
  },
  {
   "cell_type": "code",
   "execution_count": null,
   "metadata": {},
   "outputs": [],
   "source": [
    "arr = np.array([1,2,3])\n",
    "# getting the dimensions of the array\n",
    "dim = arr.ndim\n",
    "print(f'Dimensions : {dim}')\n",
    "\n",
    "# getting the byte size and array size\n",
    "byte_size = arr.nbytes\n",
    "print(f'Byte size : {byte_size}')\n",
    "size = arr.size\n",
    "print(f'Size : {size}')\n",
    "\n",
    "arr = np.array([[1,2,3],[4,5,6],[7,8,9]],dtype='int32')\n",
    "# shape of the array\n",
    "shape = arr.shape\n",
    "print(f'Shape of the array : {shape}')\n",
    "\n",
    "# itemsize method - retunrs the number of bytes taken by a single element\n",
    "x = arr.itemsize\n",
    "print(f'Itemsize of the array is {x}')\n",
    "\n",
    "# get the total number of elements using size method\n",
    "size = arr.size\n",
    "print(f'Total number of elements in the array : {size}')\n",
    "print(f'Total bytes taken by the array : {x*size}')\n",
    "print(f'Using nbytes method : {arr.nbytes}')\n",
    "\n",
    "# For more info on other methods visit : https://numpy.org/doc/stable/reference/index.html"
   ]
  },
  {
   "cell_type": "markdown",
   "metadata": {},
   "source": [
    "# *Accessing and modifying elements in an array*"
   ]
  },
  {
   "cell_type": "code",
   "execution_count": null,
   "metadata": {},
   "outputs": [],
   "source": [
    "print(arr) # displaying the array\n",
    "print(arr[0,2]) # prints the element present in the first row and third column\n",
    "# to get a specific column (column 3 elements)\n",
    "print(arr[:,2])\n",
    "# to get a specific row (row 2 elements)\n",
    "print(arr[1,:])\n",
    "# to get a specific row & specific clumn elements [row,column]\n",
    "print(arr[0:3,0:2]) # prints the matrix leaving the last column\n",
    "print(arr[0:3,0:2:2]) #prints the matrix leaving second and third columns (here 2 mentioned additionally which is the step-size)\n",
    "\n",
    "# modifying elements in an array\n",
    "arr[2,2] = 10\n",
    "print(arr)\n",
    "arr[0:,1:] = [3,4]\n",
    "print(arr)"
   ]
  },
  {
   "cell_type": "markdown",
   "metadata": {},
   "source": [
    "# *Initializing different types of arrays*"
   ]
  },
  {
   "cell_type": "code",
   "execution_count": null,
   "metadata": {},
   "outputs": [],
   "source": [
    "zero_array = np.zeros((2,2),dtype='int32') # assigns a 2x2 array with all entries assigned with the value 0\n",
    "print(f'Zero array : {zero_array}') # np.zeros(shape)\n",
    "\n",
    "one_array = np.ones((2,2),dtype='int32') # assigns a 2x2 array with all entries assigned with the value 1\n",
    "print(f'One array : {one_array}') # np.zeros(shape)\n",
    "\n",
    "array = np.full((2,2),[[1,2],[3,4]],dtype='int32') # np.full(shape,array/elements) - used to create array with our own entries\n",
    "print(f'Array : {array}')\n",
    "array_element = np.full((2,2),18,dtype='int32')\n",
    "print(f'Array with elements : {array_element}')\n",
    "\n",
    "# full_like method\n",
    "arr1 = np.full_like(array,18)\n",
    "print(f'Using full like method : {arr1}')\n",
    "\n",
    "# creating an array with random decimal numbers\n",
    "random_array = np.random.rand(2,2) # np.random.rand(shape) - note : shape should not be given in tuple\n",
    "print(f'Random array : {random_array}')\n",
    "\n",
    "# creating an array with random integer number\n",
    "random_int_array = np.random.randint(1,4,(2,2)) # np.random.randint(low,high,shape) - note : shape should be given in tuple\n",
    "print(f'Random array of integers : {random_int_array}')\n",
    "\n",
    "# create an identity matrix\n",
    "identity_matrix = np.identity(3) # np.identity(order) - order of matrix is the shape of the matrix\n",
    "print(f'Identity matrix : {identity_matrix}')\n",
    "\n",
    "# repeating an array\n",
    "arr = np.array([1,2,3])\n",
    "r1 = np.repeat(arr,3)\n",
    "print(f'Repeated arrray : {r1}') \n",
    "\n",
    "# For more info on random sampling visit : https://numpy.org/doc/stable/reference/random/index.html"
   ]
  },
  {
   "cell_type": "markdown",
   "metadata": {},
   "source": [
    "# *Initializing a custom array*"
   ]
  },
  {
   "cell_type": "code",
   "execution_count": null,
   "metadata": {},
   "outputs": [],
   "source": [
    "ones = np.ones((5,5),dtype='int32')\n",
    "zeroes = np.zeros((3,3))\n",
    "zeroes[1,1] = 9\n",
    "ones[1:4,1:4] = zeroes\n",
    "print(ones)"
   ]
  },
  {
   "cell_type": "markdown",
   "metadata": {},
   "source": [
    "# *Copying an array*"
   ]
  },
  {
   "cell_type": "code",
   "execution_count": null,
   "metadata": {},
   "outputs": [],
   "source": [
    "# shallow Copy\n",
    "arr = np.array([1,2,3])\n",
    "print(f'Array before modifying : {arr}')\n",
    "copy = arr\n",
    "copy[0] = 18\n",
    "print(f'Array after modifying : {arr}')\n",
    "print(f'Copy : {copy}')\n",
    "\n",
    "# deep Copy\n",
    "arr1 = np.array([1,2,3])\n",
    "copy1 = arr1.copy()\n",
    "print(f'Array before modifying : {arr1}')\n",
    "copy1[0] = 18\n",
    "print(f'Array after modifying : {arr1}')\n",
    "print(f'Copy : {copy1}')"
   ]
  },
  {
   "cell_type": "markdown",
   "metadata": {},
   "source": [
    "# *Mathematics*"
   ]
  },
  {
   "cell_type": "code",
   "execution_count": null,
   "metadata": {},
   "outputs": [],
   "source": [
    "# element wise operations\n",
    "a = np.array([1,2,3])\n",
    "a = a+2 # adds 2 to each element in the array\n",
    "print(f'Addition : {a}')\n",
    "a = np.array([1,2,3])\n",
    "a = a-2 # subtracts 2 from each element in the array\n",
    "print(f'Subtraction : {a}')\n",
    "a = np.array([1,2,3])\n",
    "a = a*2 # multiplies each element in the array by 2\n",
    "print(f'Multiplication : {a}') \n",
    "a = np.array([1,2,3])\n",
    "a = a/2 # divides each element in the array by 2\n",
    "print(f'Division : {a}')\n",
    "\n",
    "# operations between two arrays\n",
    "# note : every computation is element-wise\n",
    "a = np.array([1,2,3])\n",
    "b = np.array([4,5,6])\n",
    "print(f'Addition between two arrays : {a+b}')\n",
    "print(f'Subtraction between two arrays : {a-b}')\n",
    "print(f'Multiplication between two arrays : {a*b}')\n",
    "print(f'Division between two arrays : {a/b}')\n",
    "\n",
    "# For more info on other mathematical operations visit : https://numpy.org/doc/stable/reference/routines.math.html"
   ]
  },
  {
   "cell_type": "markdown",
   "metadata": {},
   "source": [
    "# *Linear Algebra*"
   ]
  },
  {
   "cell_type": "code",
   "execution_count": null,
   "metadata": {},
   "outputs": [],
   "source": [
    "# matrix multiplication\n",
    "a = np.ones((2,3),dtype='int32')\n",
    "b = np.full((3,2),2)\n",
    "result = np.matmul(a,b)\n",
    "print(f'Matrix Multiplication of a and b is : {result}')\n",
    "\n",
    "# finding determinant of the matrix\n",
    "c = np.identity(3)\n",
    "det_c = np.linalg.det(c)\n",
    "print(f'Determinant of c is : {det_c}')\n",
    "\n",
    "# For more info on other operations visit : https://numpy.org/doc/stable/reference/routines.linalg.html"
   ]
  },
  {
   "cell_type": "markdown",
   "metadata": {},
   "source": [
    "# *Statistics*"
   ]
  },
  {
   "cell_type": "code",
   "execution_count": null,
   "metadata": {},
   "outputs": [],
   "source": [
    "arr1 = np.array([[1,2,3],[4,5,6]])\n",
    "min = np.min(arr1)\n",
    "max = np.max(arr1)\n",
    "sum = np.sum(arr1)\n",
    "print(f'Minimum : {min}')\n",
    "print(f'Maximum : {max}')\n",
    "print(f'Sum : {sum}')\n",
    "# to print the maximum (or) minimum row (or) column, set axis = 0 or axis = 1 respectively\n",
    "# to print the sum of row (or) column, set axis = 0 or axis = 1 respectively"
   ]
  },
  {
   "cell_type": "markdown",
   "metadata": {},
   "source": [
    "# *Reorganizing Arrays*"
   ]
  },
  {
   "cell_type": "code",
   "execution_count": null,
   "metadata": {},
   "outputs": [],
   "source": [
    "# changing the order of the matrix\n",
    "a = np.array([[1,2,3,4],[5,6,7,8]])\n",
    "b = np.reshape(a,(8,1))\n",
    "print(f'Reshaped array : {b}')\n",
    "\n",
    "# vertically stacking two arrays\n",
    "a1 = np.array([1,2,3])\n",
    "a2 = np.array([4,5,6])\n",
    "vstack = np.vstack([a1,a2])\n",
    "print(f'Vertically stacked matrix : {vstack}')\n",
    "\n",
    "# horizontal stacking\n",
    "b1 = np.array([[1,2,3],[4,5,6]])\n",
    "b2 = np.array([[7,8,9],[0,2,4]])\n",
    "hstack = np.hstack([b1,b2])\n",
    "print(f'Horizontally stacked matrix : {hstack}')"
   ]
  },
  {
   "cell_type": "markdown",
   "metadata": {},
   "source": [
    "# *Miscellaneous*"
   ]
  },
  {
   "cell_type": "code",
   "execution_count": null,
   "metadata": {},
   "outputs": [],
   "source": [
    " # load data from a file\n",
    "data = np.genfromtxt('Data.txt',delimiter=',',dtype='float32')\n",
    "print(data)\n",
    "# to change the datatype without the use of dtype parameter\n",
    "data = data.astype('int32')\n",
    "print(f'Ater modifying the data type : {data}')\n",
    "\n",
    "# Boolean Masking and Advanced Indexing\n",
    "print(data>50) # retuns the array where each element is replaced by a boolean value depending whether it satisfies the condition\n",
    "print(data[data>50]) # returns an aray with vallues which satisfy the condition\n",
    "array = np.array([1,2,3,4,5,6,7,8])\n",
    "print(array[[0,4,6]]) # we can also pass a list of indices which returns the corresponding elements in an array\n",
    "\n",
    "result = np.any(data>50,axis=0) # checks whether any element satisfies the condition \n",
    "print(result)\n",
    "resultall = np.all(data>50,axis=0) # checks whether all elements satisfies the condition \n",
    "print(resultall)\n",
    "\n",
    "print((data>50) & (data<100)) # uses two conditions - note : use elementary/bitwise operators"
   ]
  }
 ],
 "metadata": {
  "kernelspec": {
   "display_name": "Python 3",
   "language": "python",
   "name": "python3"
  },
  "language_info": {
   "codemirror_mode": {
    "name": "ipython",
    "version": 3
   },
   "file_extension": ".py",
   "mimetype": "text/x-python",
   "name": "python",
   "nbconvert_exporter": "python",
   "pygments_lexer": "ipython3",
   "version": "3.10.10"
  }
 },
 "nbformat": 4,
 "nbformat_minor": 2
}
